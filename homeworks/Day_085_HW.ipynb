{
 "cells": [
  {
   "cell_type": "markdown",
   "metadata": {},
   "source": [
    "## Work\n",
    "1. 試改變 monitor \"Validation Accuracy\" 並比較結果\n",
    "2. 調整 earlystop 的等待次數至 10, 25 並比較結果"
   ]
  },
  {
   "cell_type": "code",
   "execution_count": 1,
   "metadata": {},
   "outputs": [
    {
     "name": "stderr",
     "output_type": "stream",
     "text": [
      "C:\\Users\\Hero3C\\Anaconda3\\envs\\keras\\lib\\site-packages\\tensorflow\\python\\framework\\dtypes.py:516: FutureWarning: Passing (type, 1) or '1type' as a synonym of type is deprecated; in a future version of numpy, it will be understood as (type, (1,)) / '(1,)type'.\n",
      "  _np_qint8 = np.dtype([(\"qint8\", np.int8, 1)])\n",
      "C:\\Users\\Hero3C\\Anaconda3\\envs\\keras\\lib\\site-packages\\tensorflow\\python\\framework\\dtypes.py:517: FutureWarning: Passing (type, 1) or '1type' as a synonym of type is deprecated; in a future version of numpy, it will be understood as (type, (1,)) / '(1,)type'.\n",
      "  _np_quint8 = np.dtype([(\"quint8\", np.uint8, 1)])\n",
      "C:\\Users\\Hero3C\\Anaconda3\\envs\\keras\\lib\\site-packages\\tensorflow\\python\\framework\\dtypes.py:518: FutureWarning: Passing (type, 1) or '1type' as a synonym of type is deprecated; in a future version of numpy, it will be understood as (type, (1,)) / '(1,)type'.\n",
      "  _np_qint16 = np.dtype([(\"qint16\", np.int16, 1)])\n",
      "C:\\Users\\Hero3C\\Anaconda3\\envs\\keras\\lib\\site-packages\\tensorflow\\python\\framework\\dtypes.py:519: FutureWarning: Passing (type, 1) or '1type' as a synonym of type is deprecated; in a future version of numpy, it will be understood as (type, (1,)) / '(1,)type'.\n",
      "  _np_quint16 = np.dtype([(\"quint16\", np.uint16, 1)])\n",
      "C:\\Users\\Hero3C\\Anaconda3\\envs\\keras\\lib\\site-packages\\tensorflow\\python\\framework\\dtypes.py:520: FutureWarning: Passing (type, 1) or '1type' as a synonym of type is deprecated; in a future version of numpy, it will be understood as (type, (1,)) / '(1,)type'.\n",
      "  _np_qint32 = np.dtype([(\"qint32\", np.int32, 1)])\n",
      "C:\\Users\\Hero3C\\Anaconda3\\envs\\keras\\lib\\site-packages\\tensorflow\\python\\framework\\dtypes.py:525: FutureWarning: Passing (type, 1) or '1type' as a synonym of type is deprecated; in a future version of numpy, it will be understood as (type, (1,)) / '(1,)type'.\n",
      "  np_resource = np.dtype([(\"resource\", np.ubyte, 1)])\n",
      "C:\\Users\\Hero3C\\Anaconda3\\envs\\keras\\lib\\site-packages\\tensorboard\\compat\\tensorflow_stub\\dtypes.py:541: FutureWarning: Passing (type, 1) or '1type' as a synonym of type is deprecated; in a future version of numpy, it will be understood as (type, (1,)) / '(1,)type'.\n",
      "  _np_qint8 = np.dtype([(\"qint8\", np.int8, 1)])\n",
      "C:\\Users\\Hero3C\\Anaconda3\\envs\\keras\\lib\\site-packages\\tensorboard\\compat\\tensorflow_stub\\dtypes.py:542: FutureWarning: Passing (type, 1) or '1type' as a synonym of type is deprecated; in a future version of numpy, it will be understood as (type, (1,)) / '(1,)type'.\n",
      "  _np_quint8 = np.dtype([(\"quint8\", np.uint8, 1)])\n",
      "C:\\Users\\Hero3C\\Anaconda3\\envs\\keras\\lib\\site-packages\\tensorboard\\compat\\tensorflow_stub\\dtypes.py:543: FutureWarning: Passing (type, 1) or '1type' as a synonym of type is deprecated; in a future version of numpy, it will be understood as (type, (1,)) / '(1,)type'.\n",
      "  _np_qint16 = np.dtype([(\"qint16\", np.int16, 1)])\n",
      "C:\\Users\\Hero3C\\Anaconda3\\envs\\keras\\lib\\site-packages\\tensorboard\\compat\\tensorflow_stub\\dtypes.py:544: FutureWarning: Passing (type, 1) or '1type' as a synonym of type is deprecated; in a future version of numpy, it will be understood as (type, (1,)) / '(1,)type'.\n",
      "  _np_quint16 = np.dtype([(\"quint16\", np.uint16, 1)])\n",
      "C:\\Users\\Hero3C\\Anaconda3\\envs\\keras\\lib\\site-packages\\tensorboard\\compat\\tensorflow_stub\\dtypes.py:545: FutureWarning: Passing (type, 1) or '1type' as a synonym of type is deprecated; in a future version of numpy, it will be understood as (type, (1,)) / '(1,)type'.\n",
      "  _np_qint32 = np.dtype([(\"qint32\", np.int32, 1)])\n",
      "C:\\Users\\Hero3C\\Anaconda3\\envs\\keras\\lib\\site-packages\\tensorboard\\compat\\tensorflow_stub\\dtypes.py:550: FutureWarning: Passing (type, 1) or '1type' as a synonym of type is deprecated; in a future version of numpy, it will be understood as (type, (1,)) / '(1,)type'.\n",
      "  np_resource = np.dtype([(\"resource\", np.ubyte, 1)])\n"
     ]
    }
   ],
   "source": [
    "import os\n",
    "from tensorflow.python import keras\n",
    "import matplotlib.pyplot as plt\n",
    "%matplotlib inline\n",
    "\n",
    "\n",
    "# Disable GPU\n",
    "#os.environ[\"CUDA_VISIBLE_DEVICES\"] = \"\""
   ]
  },
  {
   "cell_type": "code",
   "execution_count": 2,
   "metadata": {},
   "outputs": [],
   "source": [
    "train, test = keras.datasets.cifar10.load_data()"
   ]
  },
  {
   "cell_type": "code",
   "execution_count": 3,
   "metadata": {},
   "outputs": [],
   "source": [
    "## 資料前處理\n",
    "def preproc_x(x, flatten=True):\n",
    "    x = x / 255.\n",
    "    if flatten:\n",
    "        x = x.reshape((len(x), -1))\n",
    "    return x\n",
    "\n",
    "def preproc_y(y, num_classes=10):\n",
    "    if y.shape[-1] == 1:\n",
    "        y = keras.utils.to_categorical(y, num_classes)\n",
    "    return y    "
   ]
  },
  {
   "cell_type": "code",
   "execution_count": 4,
   "metadata": {},
   "outputs": [],
   "source": [
    "x_train, y_train = train\n",
    "x_test, y_test = test\n",
    "\n",
    "# Preproc the inputs\n",
    "x_train = preproc_x(x_train)\n",
    "x_test = preproc_x(x_test)\n",
    "\n",
    "# Preprc the outputs\n",
    "y_train = preproc_y(y_train)\n",
    "y_test = preproc_y(y_test)"
   ]
  },
  {
   "cell_type": "code",
   "execution_count": 5,
   "metadata": {},
   "outputs": [],
   "source": [
    "from tensorflow.python.keras.layers import BatchNormalization\n",
    "\n",
    "\"\"\"\n",
    "建立神經網路，並加入 BN layer\n",
    "\"\"\"\n",
    "def build_mlp(input_shape, output_units=10, num_neurons=[512, 256, 128]):\n",
    "    input_layer = keras.layers.Input(input_shape)\n",
    "    \n",
    "    for i, n_units in enumerate(num_neurons):\n",
    "        if i == 0:\n",
    "            x = keras.layers.Dense(units=n_units, \n",
    "                                   activation=\"relu\", \n",
    "                                   name=\"hidden_layer\"+str(i+1))(input_layer)\n",
    "            x = BatchNormalization()(x)\n",
    "        else:\n",
    "            x = keras.layers.Dense(units=n_units, \n",
    "                                   activation=\"relu\", \n",
    "                                   name=\"hidden_layer\"+str(i+1))(x)\n",
    "            x = BatchNormalization()(x)\n",
    "    \n",
    "    out = keras.layers.Dense(units=output_units, activation=\"softmax\", name=\"output\")(x)\n",
    "    \n",
    "    model = keras.models.Model(inputs=[input_layer], outputs=[out])\n",
    "    return model"
   ]
  },
  {
   "cell_type": "code",
   "execution_count": 6,
   "metadata": {},
   "outputs": [],
   "source": [
    "## 超參數設定\n",
    "LEARNING_RATE = 1e-3\n",
    "EPOCHS = 50\n",
    "BATCH_SIZE = 1024\n",
    "MOMENTUM = 0.95"
   ]
  },
  {
   "cell_type": "code",
   "execution_count": 7,
   "metadata": {},
   "outputs": [
    {
     "name": "stdout",
     "output_type": "stream",
     "text": [
      "Model: \"model\"\n",
      "_________________________________________________________________\n",
      "Layer (type)                 Output Shape              Param #   \n",
      "=================================================================\n",
      "input_1 (InputLayer)         [(None, 3072)]            0         \n",
      "_________________________________________________________________\n",
      "hidden_layer1 (Dense)        (None, 512)               1573376   \n",
      "_________________________________________________________________\n",
      "batch_normalization (BatchNo (None, 512)               2048      \n",
      "_________________________________________________________________\n",
      "hidden_layer2 (Dense)        (None, 256)               131328    \n",
      "_________________________________________________________________\n",
      "batch_normalization_1 (Batch (None, 256)               1024      \n",
      "_________________________________________________________________\n",
      "hidden_layer3 (Dense)        (None, 128)               32896     \n",
      "_________________________________________________________________\n",
      "batch_normalization_2 (Batch (None, 128)               512       \n",
      "_________________________________________________________________\n",
      "output (Dense)               (None, 10)                1290      \n",
      "=================================================================\n",
      "Total params: 1,742,474\n",
      "Trainable params: 1,740,682\n",
      "Non-trainable params: 1,792\n",
      "_________________________________________________________________\n",
      "WARNING:tensorflow:From C:\\Users\\Hero3C\\Anaconda3\\envs\\keras\\lib\\site-packages\\tensorflow\\python\\ops\\math_grad.py:1250: add_dispatch_support.<locals>.wrapper (from tensorflow.python.ops.array_ops) is deprecated and will be removed in a future version.\n",
      "Instructions for updating:\n",
      "Use tf.where in 2.0, which has the same broadcast rule as np.where\n",
      "Train on 50000 samples, validate on 10000 samples\n",
      "Epoch 1/50\n",
      "50000/50000 [==============================] - 5s 106us/sample - loss: 2.2270 - accuracy: 0.2666 - val_loss: 2.1091 - val_accuracy: 0.2228\n",
      "Epoch 2/50\n",
      "50000/50000 [==============================] - 3s 55us/sample - loss: 1.7415 - accuracy: 0.3957 - val_loss: 1.9456 - val_accuracy: 0.3036\n",
      "Epoch 3/50\n",
      "50000/50000 [==============================] - 3s 58us/sample - loss: 1.6200 - accuracy: 0.4348 - val_loss: 1.8238 - val_accuracy: 0.3723\n",
      "Epoch 4/50\n",
      "50000/50000 [==============================] - 3s 58us/sample - loss: 1.5502 - accuracy: 0.4595 - val_loss: 1.7151 - val_accuracy: 0.4053\n",
      "Epoch 5/50\n",
      "50000/50000 [==============================] - 3s 57us/sample - loss: 1.4972 - accuracy: 0.4773 - val_loss: 1.6505 - val_accuracy: 0.4167\n",
      "Epoch 6/50\n",
      "50000/50000 [==============================] - 3s 59us/sample - loss: 1.4515 - accuracy: 0.4946 - val_loss: 1.5928 - val_accuracy: 0.4374\n",
      "Epoch 7/50\n",
      "50000/50000 [==============================] - 3s 57us/sample - loss: 1.4128 - accuracy: 0.5099 - val_loss: 1.5545 - val_accuracy: 0.4506\n",
      "Epoch 8/50\n",
      "50000/50000 [==============================] - 3s 57us/sample - loss: 1.3784 - accuracy: 0.5215 - val_loss: 1.5288 - val_accuracy: 0.4573\n",
      "Epoch 9/50\n",
      "50000/50000 [==============================] - 3s 59us/sample - loss: 1.3460 - accuracy: 0.5351 - val_loss: 1.5137 - val_accuracy: 0.4603\n",
      "Epoch 10/50\n",
      "50000/50000 [==============================] - 3s 59us/sample - loss: 1.3160 - accuracy: 0.5452 - val_loss: 1.4912 - val_accuracy: 0.4671\n",
      "Epoch 11/50\n",
      "50000/50000 [==============================] - 3s 59us/sample - loss: 1.2876 - accuracy: 0.5543 - val_loss: 1.4867 - val_accuracy: 0.4736\n",
      "Epoch 12/50\n",
      "50000/50000 [==============================] - 3s 58us/sample - loss: 1.2602 - accuracy: 0.5661 - val_loss: 1.4721 - val_accuracy: 0.4783\n",
      "Epoch 13/50\n",
      "50000/50000 [==============================] - 3s 56us/sample - loss: 1.2334 - accuracy: 0.5756 - val_loss: 1.4758 - val_accuracy: 0.4772\n",
      "Epoch 14/50\n",
      "50000/50000 [==============================] - 3s 59us/sample - loss: 1.2089 - accuracy: 0.5844 - val_loss: 1.4644 - val_accuracy: 0.4825\n",
      "Epoch 15/50\n",
      "50000/50000 [==============================] - 3s 59us/sample - loss: 1.1856 - accuracy: 0.5941 - val_loss: 1.4813 - val_accuracy: 0.4770\n",
      "Epoch 16/50\n",
      "50000/50000 [==============================] - 3s 59us/sample - loss: 1.1618 - accuracy: 0.6016 - val_loss: 1.4610 - val_accuracy: 0.4855\n",
      "Epoch 17/50\n",
      "50000/50000 [==============================] - 3s 59us/sample - loss: 1.1385 - accuracy: 0.6106 - val_loss: 1.4532 - val_accuracy: 0.4859\n",
      "Epoch 18/50\n",
      "50000/50000 [==============================] - 3s 57us/sample - loss: 1.1151 - accuracy: 0.6197 - val_loss: 1.4550 - val_accuracy: 0.4893\n",
      "Epoch 19/50\n",
      "50000/50000 [==============================] - 3s 58us/sample - loss: 1.0947 - accuracy: 0.6281 - val_loss: 1.4454 - val_accuracy: 0.4908\n",
      "Epoch 20/50\n",
      "50000/50000 [==============================] - 3s 57us/sample - loss: 1.0718 - accuracy: 0.6358 - val_loss: 1.4516 - val_accuracy: 0.4896\n",
      "Epoch 21/50\n",
      "50000/50000 [==============================] - 3s 60us/sample - loss: 1.0512 - accuracy: 0.6444 - val_loss: 1.4624 - val_accuracy: 0.4904\n",
      "Epoch 22/50\n",
      "50000/50000 [==============================] - 3s 59us/sample - loss: 1.0300 - accuracy: 0.6517 - val_loss: 1.4662 - val_accuracy: 0.4927\n",
      "Epoch 23/50\n",
      "50000/50000 [==============================] - 3s 58us/sample - loss: 1.0090 - accuracy: 0.6590 - val_loss: 1.4443 - val_accuracy: 0.4956\n",
      "Epoch 24/50\n",
      "50000/50000 [==============================] - 3s 55us/sample - loss: 0.9869 - accuracy: 0.6693 - val_loss: 1.4637 - val_accuracy: 0.4914\n",
      "Epoch 25/50\n",
      "50000/50000 [==============================] - 3s 58us/sample - loss: 0.9684 - accuracy: 0.6761 - val_loss: 1.4534 - val_accuracy: 0.4932\n",
      "Epoch 26/50\n",
      "50000/50000 [==============================] - 3s 59us/sample - loss: 0.9468 - accuracy: 0.6846 - val_loss: 1.4671 - val_accuracy: 0.4937\n",
      "Epoch 27/50\n",
      "50000/50000 [==============================] - 3s 60us/sample - loss: 0.9266 - accuracy: 0.6934 - val_loss: 1.4564 - val_accuracy: 0.4973\n",
      "Epoch 28/50\n",
      "50000/50000 [==============================] - 3s 59us/sample - loss: 0.9071 - accuracy: 0.6993 - val_loss: 1.4634 - val_accuracy: 0.4991\n",
      "Epoch 29/50\n",
      "50000/50000 [==============================] - 3s 54us/sample - loss: 0.8868 - accuracy: 0.7079 - val_loss: 1.4755 - val_accuracy: 0.4928\n",
      "Epoch 30/50\n",
      "50000/50000 [==============================] - 3s 58us/sample - loss: 0.8658 - accuracy: 0.7161 - val_loss: 1.4663 - val_accuracy: 0.4952\n",
      "Epoch 31/50\n",
      "50000/50000 [==============================] - 3s 58us/sample - loss: 0.8471 - accuracy: 0.7244 - val_loss: 1.4790 - val_accuracy: 0.4931\n",
      "Epoch 32/50\n",
      "50000/50000 [==============================] - 3s 58us/sample - loss: 0.8277 - accuracy: 0.7309 - val_loss: 1.4887 - val_accuracy: 0.4959\n",
      "Epoch 33/50\n",
      "50000/50000 [==============================] - 3s 59us/sample - loss: 0.8073 - accuracy: 0.7415 - val_loss: 1.4993 - val_accuracy: 0.4938\n",
      "Epoch 34/50\n",
      "50000/50000 [==============================] - 3s 58us/sample - loss: 0.7880 - accuracy: 0.7469 - val_loss: 1.5099 - val_accuracy: 0.4912\n",
      "Epoch 35/50\n",
      "50000/50000 [==============================] - 3s 57us/sample - loss: 0.7685 - accuracy: 0.7557 - val_loss: 1.4993 - val_accuracy: 0.4951\n",
      "Epoch 36/50\n",
      "50000/50000 [==============================] - 3s 58us/sample - loss: 0.7492 - accuracy: 0.7618 - val_loss: 1.5165 - val_accuracy: 0.4975\n",
      "Epoch 37/50\n",
      "50000/50000 [==============================] - 3s 58us/sample - loss: 0.7292 - accuracy: 0.7716 - val_loss: 1.5256 - val_accuracy: 0.4948\n",
      "Epoch 38/50\n",
      "50000/50000 [==============================] - 3s 60us/sample - loss: 0.7122 - accuracy: 0.7759 - val_loss: 1.5458 - val_accuracy: 0.4930\n",
      "Epoch 00038: early stopping\n"
     ]
    }
   ],
   "source": [
    "# 載入 Callbacks\n",
    "\"\"\"Code Here\n",
    "設定 callbacks: Earlystop\n",
    "\"\"\"\n",
    "from tensorflow.python.keras.callbacks import EarlyStopping\n",
    "\n",
    "earlystop = EarlyStopping(monitor=\"val_accuracy\", \n",
    "                          patience=10, \n",
    "                          verbose=1\n",
    "                          )\n",
    "\n",
    "\n",
    "\n",
    "\"\"\"Code Here\n",
    "撰寫你的訓練流程並將結果用 dictionary 紀錄\n",
    "\"\"\"\n",
    "model = build_mlp(input_shape=x_train.shape[1:])\n",
    "model.summary()\n",
    "optimizer = keras.optimizers.SGD(lr=LEARNING_RATE, nesterov=True, momentum=MOMENTUM)\n",
    "model.compile(loss=\"categorical_crossentropy\", metrics=[\"accuracy\"], optimizer=optimizer)\n",
    "\n",
    "model.fit(x_train, y_train, \n",
    "          epochs=EPOCHS, \n",
    "          batch_size=BATCH_SIZE, \n",
    "          validation_data=(x_test, y_test), \n",
    "          shuffle=True,\n",
    "          callbacks=[earlystop]\n",
    "         )\n",
    "\n",
    "# Collect results\n",
    "train_loss = model.history.history[\"loss\"]\n",
    "valid_loss = model.history.history[\"val_loss\"]\n",
    "train_acc = model.history.history[\"accuracy\"]\n",
    "valid_acc = model.history.history[\"val_accuracy\"]"
   ]
  },
  {
   "cell_type": "code",
   "execution_count": 8,
   "metadata": {},
   "outputs": [
    {
     "data": {
      "image/png": "[encoded data removed]",
      "text/plain": [
       "<Figure size 432x288 with 1 Axes>"
      ]
     },
     "metadata": {
      "needs_background": "light"
     },
     "output_type": "display_data"
    },
    {
     "data": {
      "image/png": "[encoded data removed]",
      "text/plain": [
       "<Figure size 432x288 with 1 Axes>"
      ]
     },
     "metadata": {
      "needs_background": "light"
     },
     "output_type": "display_data"
    }
   ],
   "source": [
    "import matplotlib.pyplot as plt\n",
    "%matplotlib inline\n",
    "\"\"\"Code Here\n",
    "將結果繪出\n",
    "\"\"\"\n",
    "\n",
    "\n",
    "plt.plot(range(len(train_loss)), train_loss, label=\"train loss\")\n",
    "plt.plot(range(len(valid_loss)), valid_loss, label=\"valid loss\")\n",
    "plt.legend()\n",
    "plt.title(\"Loss\")\n",
    "plt.show()\n",
    "\n",
    "plt.plot(range(len(train_acc)), train_acc, label=\"train accuracy\")\n",
    "plt.plot(range(len(valid_acc)), valid_acc, label=\"valid accuracy\")\n",
    "plt.legend()\n",
    "plt.title(\"Accuracy\")\n",
    "plt.show()"
   ]
  },
  {
   "cell_type": "code",
   "execution_count": null,
   "metadata": {},
   "outputs": [],
   "source": []
  }
 ],
 "metadata": {
  "kernelspec": {
   "display_name": "Python 3",
   "language": "python",
   "name": "python3"
  },
  "language_info": {
   "codemirror_mode": {
    "name": "ipython",
    "version": 3
   },
   "file_extension": ".py",
   "mimetype": "text/x-python",
   "name": "python",
   "nbconvert_exporter": "python",
   "pygments_lexer": "ipython3",
   "version": "3.7.5"
  }
 },
 "nbformat": 4,
 "nbformat_minor": 2
}
