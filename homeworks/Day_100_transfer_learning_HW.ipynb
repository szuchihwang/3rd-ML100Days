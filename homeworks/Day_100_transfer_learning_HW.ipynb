{
 "cells": [
  {
   "cell_type": "markdown",
   "metadata": {},
   "source": [
    "# 作業\n",
    "礙於不是所有同學都有 GPU ，這邊的範例使用的是簡化版本的 ResNet，確保所有同學都能夠順利訓練!\n",
    "最後一天的作業請閱讀這篇非常詳盡的文章，基本上已經涵蓋了所有訓練　CNN 常用的技巧，請使用所有學過的訓練技巧，盡可能地提高 Cifar-10 的 test data 準確率，截圖你最佳的結果並上傳來完成最後一次的作業吧!\n",
    "另外這些技巧在 Kaggle 上也會被許多人使用，更有人會開發一些新的技巧，例如使把預訓練在 ImageNet 上的模型當成 feature extractor 後，再拿擷取出的特徵重新訓練新的模型，這些技巧再進階的課程我們會在提到，有興趣的同學也可以參考"
   ]
  },
  {
   "cell_type": "code",
   "execution_count": 1,
   "metadata": {},
   "outputs": [
    {
     "name": "stderr",
     "output_type": "stream",
     "text": [
      "C:\\Users\\Hero3C\\Anaconda3\\envs\\keras\\lib\\site-packages\\tensorflow\\python\\framework\\dtypes.py:516: FutureWarning: Passing (type, 1) or '1type' as a synonym of type is deprecated; in a future version of numpy, it will be understood as (type, (1,)) / '(1,)type'.\n",
      "  _np_qint8 = np.dtype([(\"qint8\", np.int8, 1)])\n",
      "C:\\Users\\Hero3C\\Anaconda3\\envs\\keras\\lib\\site-packages\\tensorflow\\python\\framework\\dtypes.py:517: FutureWarning: Passing (type, 1) or '1type' as a synonym of type is deprecated; in a future version of numpy, it will be understood as (type, (1,)) / '(1,)type'.\n",
      "  _np_quint8 = np.dtype([(\"quint8\", np.uint8, 1)])\n",
      "C:\\Users\\Hero3C\\Anaconda3\\envs\\keras\\lib\\site-packages\\tensorflow\\python\\framework\\dtypes.py:518: FutureWarning: Passing (type, 1) or '1type' as a synonym of type is deprecated; in a future version of numpy, it will be understood as (type, (1,)) / '(1,)type'.\n",
      "  _np_qint16 = np.dtype([(\"qint16\", np.int16, 1)])\n",
      "C:\\Users\\Hero3C\\Anaconda3\\envs\\keras\\lib\\site-packages\\tensorflow\\python\\framework\\dtypes.py:519: FutureWarning: Passing (type, 1) or '1type' as a synonym of type is deprecated; in a future version of numpy, it will be understood as (type, (1,)) / '(1,)type'.\n",
      "  _np_quint16 = np.dtype([(\"quint16\", np.uint16, 1)])\n",
      "C:\\Users\\Hero3C\\Anaconda3\\envs\\keras\\lib\\site-packages\\tensorflow\\python\\framework\\dtypes.py:520: FutureWarning: Passing (type, 1) or '1type' as a synonym of type is deprecated; in a future version of numpy, it will be understood as (type, (1,)) / '(1,)type'.\n",
      "  _np_qint32 = np.dtype([(\"qint32\", np.int32, 1)])\n",
      "C:\\Users\\Hero3C\\Anaconda3\\envs\\keras\\lib\\site-packages\\tensorflow\\python\\framework\\dtypes.py:525: FutureWarning: Passing (type, 1) or '1type' as a synonym of type is deprecated; in a future version of numpy, it will be understood as (type, (1,)) / '(1,)type'.\n",
      "  np_resource = np.dtype([(\"resource\", np.ubyte, 1)])\n",
      "C:\\Users\\Hero3C\\Anaconda3\\envs\\keras\\lib\\site-packages\\tensorboard\\compat\\tensorflow_stub\\dtypes.py:541: FutureWarning: Passing (type, 1) or '1type' as a synonym of type is deprecated; in a future version of numpy, it will be understood as (type, (1,)) / '(1,)type'.\n",
      "  _np_qint8 = np.dtype([(\"qint8\", np.int8, 1)])\n",
      "C:\\Users\\Hero3C\\Anaconda3\\envs\\keras\\lib\\site-packages\\tensorboard\\compat\\tensorflow_stub\\dtypes.py:542: FutureWarning: Passing (type, 1) or '1type' as a synonym of type is deprecated; in a future version of numpy, it will be understood as (type, (1,)) / '(1,)type'.\n",
      "  _np_quint8 = np.dtype([(\"quint8\", np.uint8, 1)])\n",
      "C:\\Users\\Hero3C\\Anaconda3\\envs\\keras\\lib\\site-packages\\tensorboard\\compat\\tensorflow_stub\\dtypes.py:543: FutureWarning: Passing (type, 1) or '1type' as a synonym of type is deprecated; in a future version of numpy, it will be understood as (type, (1,)) / '(1,)type'.\n",
      "  _np_qint16 = np.dtype([(\"qint16\", np.int16, 1)])\n",
      "C:\\Users\\Hero3C\\Anaconda3\\envs\\keras\\lib\\site-packages\\tensorboard\\compat\\tensorflow_stub\\dtypes.py:544: FutureWarning: Passing (type, 1) or '1type' as a synonym of type is deprecated; in a future version of numpy, it will be understood as (type, (1,)) / '(1,)type'.\n",
      "  _np_quint16 = np.dtype([(\"quint16\", np.uint16, 1)])\n",
      "C:\\Users\\Hero3C\\Anaconda3\\envs\\keras\\lib\\site-packages\\tensorboard\\compat\\tensorflow_stub\\dtypes.py:545: FutureWarning: Passing (type, 1) or '1type' as a synonym of type is deprecated; in a future version of numpy, it will be understood as (type, (1,)) / '(1,)type'.\n",
      "  _np_qint32 = np.dtype([(\"qint32\", np.int32, 1)])\n",
      "C:\\Users\\Hero3C\\Anaconda3\\envs\\keras\\lib\\site-packages\\tensorboard\\compat\\tensorflow_stub\\dtypes.py:550: FutureWarning: Passing (type, 1) or '1type' as a synonym of type is deprecated; in a future version of numpy, it will be understood as (type, (1,)) / '(1,)type'.\n",
      "  np_resource = np.dtype([(\"resource\", np.ubyte, 1)])\n"
     ]
    }
   ],
   "source": [
    "from tensorflow.python import keras\n",
    "from tensorflow.python.keras.datasets import cifar10\n",
    "from tensorflow.python.keras.preprocessing.image import ImageDataGenerator\n",
    "from tensorflow.python.keras.models import Sequential\n",
    "from tensorflow.python.keras.layers import Dense, Dropout, Activation, Flatten, BatchNormalization\n",
    "from tensorflow.python.keras.layers import Conv2D, MaxPooling2D\n",
    "from tensorflow.python.keras.optimizers import RMSprop, Adam\n",
    "import os\n",
    "\n",
    "from tensorflow.compat.v1 import ConfigProto\n",
    "from tensorflow.compat.v1 import InteractiveSession\n",
    "\n",
    "config = ConfigProto()\n",
    "config.gpu_options.allow_growth = True\n",
    "session = InteractiveSession(config=config)"
   ]
  },
  {
   "cell_type": "markdown",
   "metadata": {},
   "source": [
    "## 接下來我們使用 CNN 來訓練神經網路\n",
    "CNN 的原理非常適合處理影像類的資料，就讓我們來看看，同樣的訓練條件，CNN 是否顯著優於 DNN 呢?"
   ]
  },
  {
   "cell_type": "code",
   "execution_count": 3,
   "metadata": {},
   "outputs": [
    {
     "name": "stdout",
     "output_type": "stream",
     "text": [
      "x_train shape: (50000, 32, 32, 3)\n",
      "50000 train samples\n",
      "10000 test samples\n"
     ]
    }
   ],
   "source": [
    "(x_train, y_train), (x_test, y_test) = cifar10.load_data()\n",
    "print('x_train shape:', x_train.shape)\n",
    "print(x_train.shape[0], 'train samples')\n",
    "print(x_test.shape[0], 'test samples')\n",
    "x_train = x_train.astype('float32')\n",
    "x_test = x_test.astype('float32')\n",
    "x_train /= 255\n",
    "x_test /= 255\n",
    "\n",
    "# Convert class vectors to binary class matrices.\n",
    "y_train = keras.utils.to_categorical(y_train, num_classes)\n",
    "y_test = keras.utils.to_categorical(y_test, num_classes)"
   ]
  },
  {
   "cell_type": "code",
   "execution_count": 25,
   "metadata": {
    "scrolled": true
   },
   "outputs": [
    {
     "name": "stdout",
     "output_type": "stream",
     "text": [
      "Model: \"sequential_10\"\n",
      "_________________________________________________________________\n",
      "Layer (type)                 Output Shape              Param #   \n",
      "=================================================================\n",
      "conv2d_56 (Conv2D)           (None, 32, 32, 1024)      28672     \n",
      "_________________________________________________________________\n",
      "activation_73 (Activation)   (None, 32, 32, 1024)      0         \n",
      "_________________________________________________________________\n",
      "batch_normalization_9 (Batch (None, 32, 32, 1024)      4096      \n",
      "_________________________________________________________________\n",
      "conv2d_57 (Conv2D)           (None, 30, 30, 1024)      9438208   \n",
      "_________________________________________________________________\n",
      "activation_74 (Activation)   (None, 30, 30, 1024)      0         \n",
      "_________________________________________________________________\n",
      "max_pooling2d_27 (MaxPooling (None, 15, 15, 1024)      0         \n",
      "_________________________________________________________________\n",
      "dropout_31 (Dropout)         (None, 15, 15, 1024)      0         \n",
      "_________________________________________________________________\n",
      "batch_normalization_10 (Batc (None, 15, 15, 1024)      4096      \n",
      "_________________________________________________________________\n",
      "conv2d_58 (Conv2D)           (None, 15, 15, 512)       4719104   \n",
      "_________________________________________________________________\n",
      "activation_75 (Activation)   (None, 15, 15, 512)       0         \n",
      "_________________________________________________________________\n",
      "batch_normalization_11 (Batc (None, 15, 15, 512)       2048      \n",
      "_________________________________________________________________\n",
      "conv2d_59 (Conv2D)           (None, 13, 13, 512)       2359808   \n",
      "_________________________________________________________________\n",
      "activation_76 (Activation)   (None, 13, 13, 512)       0         \n",
      "_________________________________________________________________\n",
      "max_pooling2d_28 (MaxPooling (None, 6, 6, 512)         0         \n",
      "_________________________________________________________________\n",
      "dropout_32 (Dropout)         (None, 6, 6, 512)         0         \n",
      "_________________________________________________________________\n",
      "conv2d_60 (Conv2D)           (None, 6, 6, 128)         589952    \n",
      "_________________________________________________________________\n",
      "activation_77 (Activation)   (None, 6, 6, 128)         0         \n",
      "_________________________________________________________________\n",
      "batch_normalization_12 (Batc (None, 6, 6, 128)         512       \n",
      "_________________________________________________________________\n",
      "conv2d_61 (Conv2D)           (None, 4, 4, 128)         147584    \n",
      "_________________________________________________________________\n",
      "activation_78 (Activation)   (None, 4, 4, 128)         0         \n",
      "_________________________________________________________________\n",
      "max_pooling2d_29 (MaxPooling (None, 2, 2, 128)         0         \n",
      "_________________________________________________________________\n",
      "dropout_33 (Dropout)         (None, 2, 2, 128)         0         \n",
      "_________________________________________________________________\n",
      "flatten_9 (Flatten)          (None, 512)               0         \n",
      "_________________________________________________________________\n",
      "dense_18 (Dense)             (None, 1024)              525312    \n",
      "_________________________________________________________________\n",
      "activation_79 (Activation)   (None, 1024)              0         \n",
      "_________________________________________________________________\n",
      "dropout_34 (Dropout)         (None, 1024)              0         \n",
      "_________________________________________________________________\n",
      "dense_19 (Dense)             (None, 10)                10250     \n",
      "_________________________________________________________________\n",
      "activation_80 (Activation)   (None, 10)                0         \n",
      "=================================================================\n",
      "Total params: 17,829,642\n",
      "Trainable params: 17,824,266\n",
      "Non-trainable params: 5,376\n",
      "_________________________________________________________________\n",
      "Train on 50000 samples, validate on 10000 samples\n",
      "Epoch 1/40\n",
      "50000/50000 [==============================] - 213s 4ms/sample - loss: 1.4976 - accuracy: 0.4595 - val_loss: 1.2036 - val_accuracy: 0.5631\n",
      "Epoch 2/40\n",
      "50000/50000 [==============================] - 207s 4ms/sample - loss: 1.0168 - accuracy: 0.6403 - val_loss: 1.0553 - val_accuracy: 0.6365\n",
      "Epoch 3/40\n",
      "50000/50000 [==============================] - 207s 4ms/sample - loss: 0.8156 - accuracy: 0.7187 - val_loss: 0.9732 - val_accuracy: 0.6665\n",
      "Epoch 4/40\n",
      "50000/50000 [==============================] - 207s 4ms/sample - loss: 0.6959 - accuracy: 0.7625 - val_loss: 0.8146 - val_accuracy: 0.7203\n",
      "Epoch 5/40\n",
      "50000/50000 [==============================] - 207s 4ms/sample - loss: 0.6064 - accuracy: 0.7906 - val_loss: 0.7014 - val_accuracy: 0.7712\n",
      "Epoch 6/40\n",
      "50000/50000 [==============================] - 206s 4ms/sample - loss: 0.5301 - accuracy: 0.8195 - val_loss: 1.1115 - val_accuracy: 0.6453\n",
      "Epoch 7/40\n",
      "50000/50000 [==============================] - 207s 4ms/sample - loss: 0.4662 - accuracy: 0.8417 - val_loss: 0.6374 - val_accuracy: 0.7868\n",
      "Epoch 8/40\n",
      "50000/50000 [==============================] - 206s 4ms/sample - loss: 0.4139 - accuracy: 0.8596 - val_loss: 0.6639 - val_accuracy: 0.7836\n",
      "Epoch 9/40\n",
      "50000/50000 [==============================] - 207s 4ms/sample - loss: 0.3629 - accuracy: 0.8759 - val_loss: 0.6259 - val_accuracy: 0.7962\n",
      "Epoch 10/40\n",
      "50000/50000 [==============================] - 207s 4ms/sample - loss: 0.3126 - accuracy: 0.8932 - val_loss: 0.6166 - val_accuracy: 0.8057\n",
      "Epoch 11/40\n",
      "50000/50000 [==============================] - 207s 4ms/sample - loss: 0.2842 - accuracy: 0.9047 - val_loss: 0.5808 - val_accuracy: 0.8165\n",
      "Epoch 12/40\n",
      "50000/50000 [==============================] - 206s 4ms/sample - loss: 0.2564 - accuracy: 0.9136 - val_loss: 0.6780 - val_accuracy: 0.7942\n",
      "Epoch 13/40\n",
      "50000/50000 [==============================] - 206s 4ms/sample - loss: 0.2267 - accuracy: 0.9235 - val_loss: 0.6687 - val_accuracy: 0.8145\n",
      "Epoch 14/40\n",
      "50000/50000 [==============================] - 207s 4ms/sample - loss: 0.2088 - accuracy: 0.9292 - val_loss: 0.5449 - val_accuracy: 0.8428\n",
      "Epoch 15/40\n",
      "50000/50000 [==============================] - 206s 4ms/sample - loss: 0.1807 - accuracy: 0.9394 - val_loss: 0.6923 - val_accuracy: 0.8176\n",
      "Epoch 16/40\n",
      "50000/50000 [==============================] - 207s 4ms/sample - loss: 0.1728 - accuracy: 0.9427 - val_loss: 0.6316 - val_accuracy: 0.8440\n",
      "Epoch 17/40\n",
      "50000/50000 [==============================] - 206s 4ms/sample - loss: 0.1535 - accuracy: 0.9476 - val_loss: 0.6590 - val_accuracy: 0.8380\n",
      "Epoch 18/40\n",
      "50000/50000 [==============================] - 207s 4ms/sample - loss: 0.1434 - accuracy: 0.9531 - val_loss: 0.6070 - val_accuracy: 0.8503\n",
      "Epoch 19/40\n",
      "50000/50000 [==============================] - 206s 4ms/sample - loss: 0.1391 - accuracy: 0.9555 - val_loss: 1.1320 - val_accuracy: 0.7584\n",
      "Epoch 20/40\n",
      "50000/50000 [==============================] - 206s 4ms/sample - loss: 0.1317 - accuracy: 0.9575 - val_loss: 0.6126 - val_accuracy: 0.8475\n",
      "Epoch 21/40\n",
      "50000/50000 [==============================] - 206s 4ms/sample - loss: 0.1246 - accuracy: 0.9606 - val_loss: 0.8583 - val_accuracy: 0.8091\n",
      "Epoch 22/40\n",
      "50000/50000 [==============================] - 206s 4ms/sample - loss: 0.1188 - accuracy: 0.9617 - val_loss: 0.6974 - val_accuracy: 0.8454\n",
      "Epoch 23/40\n",
      "50000/50000 [==============================] - 206s 4ms/sample - loss: 0.1073 - accuracy: 0.9647 - val_loss: 0.6584 - val_accuracy: 0.8438\n",
      "Epoch 24/40\n",
      "50000/50000 [==============================] - 206s 4ms/sample - loss: 0.1045 - accuracy: 0.9668 - val_loss: 0.6677 - val_accuracy: 0.8474\n",
      "Epoch 25/40\n",
      "50000/50000 [==============================] - 205s 4ms/sample - loss: 0.0974 - accuracy: 0.9683 - val_loss: 0.7165 - val_accuracy: 0.8488\n",
      "Epoch 26/40\n",
      "50000/50000 [==============================] - 205s 4ms/sample - loss: 0.1029 - accuracy: 0.9686 - val_loss: 0.8170 - val_accuracy: 0.8343\n",
      "Epoch 27/40\n",
      "50000/50000 [==============================] - 207s 4ms/sample - loss: 0.0957 - accuracy: 0.9701 - val_loss: 0.7025 - val_accuracy: 0.8563\n",
      "Epoch 28/40\n"
     ]
    },
    {
     "name": "stdout",
     "output_type": "stream",
     "text": [
      "50000/50000 [==============================] - 205s 4ms/sample - loss: 0.0881 - accuracy: 0.9725 - val_loss: 0.6885 - val_accuracy: 0.8553\n",
      "Epoch 29/40\n",
      "50000/50000 [==============================] - 205s 4ms/sample - loss: 0.0912 - accuracy: 0.9719 - val_loss: 0.6795 - val_accuracy: 0.8512\n",
      "Epoch 30/40\n",
      "50000/50000 [==============================] - 206s 4ms/sample - loss: 0.0889 - accuracy: 0.9730 - val_loss: 0.8342 - val_accuracy: 0.8378\n",
      "Epoch 31/40\n",
      "50000/50000 [==============================] - 206s 4ms/sample - loss: 0.0782 - accuracy: 0.9763 - val_loss: 0.7284 - val_accuracy: 0.8545\n",
      "Epoch 32/40\n",
      "50000/50000 [==============================] - 206s 4ms/sample - loss: 0.0774 - accuracy: 0.9764 - val_loss: 0.6661 - val_accuracy: 0.8554\n",
      "Epoch 33/40\n",
      "50000/50000 [==============================] - 206s 4ms/sample - loss: 0.0843 - accuracy: 0.9748 - val_loss: 0.7438 - val_accuracy: 0.8528\n",
      "Epoch 34/40\n",
      "50000/50000 [==============================] - 207s 4ms/sample - loss: 0.0795 - accuracy: 0.9760 - val_loss: 0.7172 - val_accuracy: 0.8645\n",
      "Epoch 35/40\n",
      "50000/50000 [==============================] - 206s 4ms/sample - loss: 0.0697 - accuracy: 0.9780 - val_loss: 0.7079 - val_accuracy: 0.8622\n",
      "Epoch 36/40\n",
      "50000/50000 [==============================] - 205s 4ms/sample - loss: 0.0695 - accuracy: 0.9796 - val_loss: 0.6875 - val_accuracy: 0.8611\n",
      "Epoch 37/40\n",
      "50000/50000 [==============================] - 206s 4ms/sample - loss: 0.0744 - accuracy: 0.9778 - val_loss: 0.6480 - val_accuracy: 0.8647\n",
      "Epoch 38/40\n",
      "50000/50000 [==============================] - 205s 4ms/sample - loss: 0.0681 - accuracy: 0.9799 - val_loss: 0.7347 - val_accuracy: 0.8569\n",
      "Epoch 39/40\n",
      "50000/50000 [==============================] - 206s 4ms/sample - loss: 0.0665 - accuracy: 0.9803 - val_loss: 0.7919 - val_accuracy: 0.8537\n",
      "Epoch 40/40\n",
      "50000/50000 [==============================] - 206s 4ms/sample - loss: 0.0665 - accuracy: 0.9804 - val_loss: 0.7828 - val_accuracy: 0.8513\n"
     ]
    }
   ],
   "source": [
    "model = Sequential()\n",
    "model.add(Conv2D(1024, (3, 3), padding='same',\n",
    "                 input_shape=x_train.shape[1:]))\n",
    "model.add(Activation('relu'))\n",
    "model.add(BatchNormalization())\n",
    "model.add(Conv2D(1024, (3, 3)))\n",
    "model.add(Activation('relu'))\n",
    "model.add(MaxPooling2D(pool_size=(2, 2)))\n",
    "model.add(Dropout(0.25))\n",
    "model.add(BatchNormalization())\n",
    "\n",
    "model.add(Conv2D(512, (3, 3), padding='same'))\n",
    "model.add(Activation('relu'))\n",
    "model.add(BatchNormalization())\n",
    "model.add(Conv2D(512, (3, 3)))\n",
    "model.add(Activation('relu'))\n",
    "model.add(MaxPooling2D(pool_size=(2, 2)))\n",
    "model.add(Dropout(0.25))\n",
    "\n",
    "model.add(Conv2D(128, (3, 3), padding='same'))\n",
    "model.add(Activation('relu'))\n",
    "model.add(BatchNormalization())\n",
    "model.add(Conv2D(128, (3, 3)))\n",
    "model.add(Activation('relu'))\n",
    "model.add(MaxPooling2D(pool_size=(2, 2)))\n",
    "model.add(Dropout(0.25))\n",
    "\n",
    "model.add(Flatten())\n",
    "model.add(Dense(1024))\n",
    "model.add(Activation('relu'))\n",
    "model.add(Dropout(0.5))\n",
    "model.add(Dense(num_classes))\n",
    "model.add(Activation('softmax'))\n",
    "model.summary()\n",
    "\n",
    "model.compile(loss='categorical_crossentropy',\n",
    "              optimizer='adam',\n",
    "              metrics=['accuracy'])\n",
    "\n",
    "# 載入 Callbacks\n",
    "from tensorflow.python.keras.callbacks import ModelCheckpoint\n",
    "\n",
    "model_ckpt = ModelCheckpoint(\"cifar10-1.h5\", \n",
    "                             monitor=\"val_accuracy\", \n",
    "                             save_best_only=True,\n",
    "                              )\n",
    "\n",
    "\n",
    "history = model.fit(x_train, y_train,\n",
    "                    batch_size=64,\n",
    "                    epochs=40,\n",
    "                    verbose=1,\n",
    "                    validation_data=(x_test, y_test),\n",
    "                    shuffle=True,\n",
    "                    callbacks=[model_ckpt])\n",
    "# Collect results\n",
    "train_loss = model.history.history[\"loss\"]\n",
    "valid_loss = model.history.history[\"val_loss\"]\n",
    "train_acc = model.history.history[\"accuracy\"]\n",
    "valid_acc = model.history.history[\"val_accuracy\"]\n",
    "#score = model.evaluate(x_test, y_test, verbose=0)\n",
    "#print('Test loss:', score[0])\n",
    "#print('Test accuracy:', score[1])"
   ]
  },
  {
   "cell_type": "code",
   "execution_count": 26,
   "metadata": {},
   "outputs": [
    {
     "name": "stdout",
     "output_type": "stream",
     "text": [
      "10000/10000 [==============================] - 14s 1ms/sample - loss: 0.6480 - accuracy: 0.8647\n"
     ]
    }
   ],
   "source": [
    "model = keras.models.load_model(\"cifar10-1.h5\")\n",
    "loss_loadback, acc_loadback = model.evaluate(x_test, y_test)"
   ]
  },
  {
   "cell_type": "code",
   "execution_count": 27,
   "metadata": {},
   "outputs": [
    {
     "data": {
      "image/png": "[encoded data removed]",
      "text/plain": [
       "<Figure size 432x288 with 1 Axes>"
      ]
     },
     "metadata": {
      "needs_background": "light"
     },
     "output_type": "display_data"
    },
    {
     "data": {
      "image/png": "[encoded data removed]",
      "text/plain": [
       "<Figure size 432x288 with 1 Axes>"
      ]
     },
     "metadata": {
      "needs_background": "light"
     },
     "output_type": "display_data"
    }
   ],
   "source": [
    "\"\"\"Code Here\n",
    "將結果繪出\n",
    "\"\"\"\n",
    "\n",
    "import matplotlib.pyplot as plt\n",
    "%matplotlib inline\n",
    "\n",
    "plt.plot(range(len(train_loss)), train_loss, label=\"train loss\")\n",
    "plt.plot(range(len(valid_loss)), valid_loss, label=\"valid loss\")\n",
    "plt.hlines(y=loss_loadback, xmin=0, xmax=len(train_loss), colors='r', linestyles='--')\n",
    "plt.legend()\n",
    "plt.title(\"Loss\")\n",
    "plt.show()\n",
    "\n",
    "plt.plot(range(len(train_acc)), train_acc, label=\"train accuracy\")\n",
    "plt.plot(range(len(valid_acc)), valid_acc, label=\"valid accuracy\")\n",
    "plt.hlines(y=acc_loadback, xmin=0, xmax=len(train_loss), colors='r', linestyles='--')\n",
    "plt.legend()\n",
    "plt.title(\"Accuracy\")\n",
    "plt.show()"
   ]
  }
 ],
 "metadata": {
  "kernelspec": {
   "display_name": "keras",
   "language": "python",
   "name": "keras"
  },
  "language_info": {
   "codemirror_mode": {
    "name": "ipython",
    "version": 3
   },
   "file_extension": ".py",
   "mimetype": "text/x-python",
   "name": "python",
   "nbconvert_exporter": "python",
   "pygments_lexer": "ipython3",
   "version": "3.7.5"
  }
 },
 "nbformat": 4,
 "nbformat_minor": 2
}
