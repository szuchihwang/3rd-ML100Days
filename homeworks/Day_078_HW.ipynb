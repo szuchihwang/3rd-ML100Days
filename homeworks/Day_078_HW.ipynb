{
 "cells": [
  {
   "cell_type": "markdown",
   "metadata": {},
   "source": [
    "## Work\n",
    "1. 請嘗試將 preproc_x 替換成以每筆資料的 min/max 進行標準化至 -1 ~ 1 間，再進行訓練\n",
    "2. 請嘗試將 mlp 疊更深 (e.g 5~10 層)，進行訓練後觀察 learning curve 的走勢\n",
    "3. (optional) 請改用 GPU 進行訓練 (如果你有 GPU 的話)，比較使用 CPU 與 GPU 的訓練速度"
   ]
  },
  {
   "cell_type": "code",
   "execution_count": 1,
   "metadata": {},
   "outputs": [],
   "source": [
    "## \n",
    "\"\"\"\n",
    "Your code here (optional)\n",
    "確認硬體資源\n",
    "\"\"\"\n"
   ]
  },
  {
   "cell_type": "code",
   "execution_count": 2,
   "metadata": {},
   "outputs": [
    {
     "name": "stderr",
     "output_type": "stream",
     "text": [
      "C:\\Users\\Hero3C\\Anaconda3\\envs\\keras\\lib\\site-packages\\tensorflow\\python\\framework\\dtypes.py:516: FutureWarning: Passing (type, 1) or '1type' as a synonym of type is deprecated; in a future version of numpy, it will be understood as (type, (1,)) / '(1,)type'.\n",
      "  _np_qint8 = np.dtype([(\"qint8\", np.int8, 1)])\n",
      "C:\\Users\\Hero3C\\Anaconda3\\envs\\keras\\lib\\site-packages\\tensorflow\\python\\framework\\dtypes.py:517: FutureWarning: Passing (type, 1) or '1type' as a synonym of type is deprecated; in a future version of numpy, it will be understood as (type, (1,)) / '(1,)type'.\n",
      "  _np_quint8 = np.dtype([(\"quint8\", np.uint8, 1)])\n",
      "C:\\Users\\Hero3C\\Anaconda3\\envs\\keras\\lib\\site-packages\\tensorflow\\python\\framework\\dtypes.py:518: FutureWarning: Passing (type, 1) or '1type' as a synonym of type is deprecated; in a future version of numpy, it will be understood as (type, (1,)) / '(1,)type'.\n",
      "  _np_qint16 = np.dtype([(\"qint16\", np.int16, 1)])\n",
      "C:\\Users\\Hero3C\\Anaconda3\\envs\\keras\\lib\\site-packages\\tensorflow\\python\\framework\\dtypes.py:519: FutureWarning: Passing (type, 1) or '1type' as a synonym of type is deprecated; in a future version of numpy, it will be understood as (type, (1,)) / '(1,)type'.\n",
      "  _np_quint16 = np.dtype([(\"quint16\", np.uint16, 1)])\n",
      "C:\\Users\\Hero3C\\Anaconda3\\envs\\keras\\lib\\site-packages\\tensorflow\\python\\framework\\dtypes.py:520: FutureWarning: Passing (type, 1) or '1type' as a synonym of type is deprecated; in a future version of numpy, it will be understood as (type, (1,)) / '(1,)type'.\n",
      "  _np_qint32 = np.dtype([(\"qint32\", np.int32, 1)])\n",
      "C:\\Users\\Hero3C\\Anaconda3\\envs\\keras\\lib\\site-packages\\tensorflow\\python\\framework\\dtypes.py:525: FutureWarning: Passing (type, 1) or '1type' as a synonym of type is deprecated; in a future version of numpy, it will be understood as (type, (1,)) / '(1,)type'.\n",
      "  np_resource = np.dtype([(\"resource\", np.ubyte, 1)])\n",
      "C:\\Users\\Hero3C\\Anaconda3\\envs\\keras\\lib\\site-packages\\tensorboard\\compat\\tensorflow_stub\\dtypes.py:541: FutureWarning: Passing (type, 1) or '1type' as a synonym of type is deprecated; in a future version of numpy, it will be understood as (type, (1,)) / '(1,)type'.\n",
      "  _np_qint8 = np.dtype([(\"qint8\", np.int8, 1)])\n",
      "C:\\Users\\Hero3C\\Anaconda3\\envs\\keras\\lib\\site-packages\\tensorboard\\compat\\tensorflow_stub\\dtypes.py:542: FutureWarning: Passing (type, 1) or '1type' as a synonym of type is deprecated; in a future version of numpy, it will be understood as (type, (1,)) / '(1,)type'.\n",
      "  _np_quint8 = np.dtype([(\"quint8\", np.uint8, 1)])\n",
      "C:\\Users\\Hero3C\\Anaconda3\\envs\\keras\\lib\\site-packages\\tensorboard\\compat\\tensorflow_stub\\dtypes.py:543: FutureWarning: Passing (type, 1) or '1type' as a synonym of type is deprecated; in a future version of numpy, it will be understood as (type, (1,)) / '(1,)type'.\n",
      "  _np_qint16 = np.dtype([(\"qint16\", np.int16, 1)])\n",
      "C:\\Users\\Hero3C\\Anaconda3\\envs\\keras\\lib\\site-packages\\tensorboard\\compat\\tensorflow_stub\\dtypes.py:544: FutureWarning: Passing (type, 1) or '1type' as a synonym of type is deprecated; in a future version of numpy, it will be understood as (type, (1,)) / '(1,)type'.\n",
      "  _np_quint16 = np.dtype([(\"quint16\", np.uint16, 1)])\n",
      "C:\\Users\\Hero3C\\Anaconda3\\envs\\keras\\lib\\site-packages\\tensorboard\\compat\\tensorflow_stub\\dtypes.py:545: FutureWarning: Passing (type, 1) or '1type' as a synonym of type is deprecated; in a future version of numpy, it will be understood as (type, (1,)) / '(1,)type'.\n",
      "  _np_qint32 = np.dtype([(\"qint32\", np.int32, 1)])\n",
      "C:\\Users\\Hero3C\\Anaconda3\\envs\\keras\\lib\\site-packages\\tensorboard\\compat\\tensorflow_stub\\dtypes.py:550: FutureWarning: Passing (type, 1) or '1type' as a synonym of type is deprecated; in a future version of numpy, it will be understood as (type, (1,)) / '(1,)type'.\n",
      "  np_resource = np.dtype([(\"resource\", np.ubyte, 1)])\n"
     ]
    }
   ],
   "source": [
    "import os\n",
    "from tensorflow.python import keras\n",
    "\n",
    "# 請嘗試設定 GPU：os.environ\n"
   ]
  },
  {
   "cell_type": "code",
   "execution_count": 3,
   "metadata": {},
   "outputs": [],
   "source": [
    "train, test = keras.datasets.cifar10.load_data()\n",
    "x_train, y_train = train\n",
    "x_test, y_test = test"
   ]
  },
  {
   "cell_type": "code",
   "execution_count": 4,
   "metadata": {},
   "outputs": [
    {
     "data": {
      "text/plain": [
       "(50000, 32, 32, 3)"
      ]
     },
     "execution_count": 4,
     "metadata": {},
     "output_type": "execute_result"
    }
   ],
   "source": [
    "x_train.shape"
   ]
  },
  {
   "cell_type": "code",
   "execution_count": 5,
   "metadata": {},
   "outputs": [],
   "source": [
    "## 資料前處理\n",
    "\"\"\"\n",
    "Your code here\n",
    "\"\"\"\n",
    "def preproc_x(x, flatten=True):\n",
    "    x = (2*(x / 255.)-1)\n",
    "    if flatten:\n",
    "        x = x.reshape((len(x), -1))\n",
    "    return x\n",
    "    return x\n",
    "def preproc_y(y, num_classes=10):\n",
    "    if y.shape[-1] == 1:\n",
    "        y = keras.utils.to_categorical(y, num_classes)\n",
    "    return y   "
   ]
  },
  {
   "cell_type": "code",
   "execution_count": 6,
   "metadata": {},
   "outputs": [],
   "source": [
    "\n",
    "\n",
    "# Preproc the inputs\n",
    "x_train = preproc_x(x_train)\n",
    "x_test = preproc_x(x_test)\n",
    "\n",
    "\n",
    "# Preprc the outputs\n",
    "y_train = preproc_y(y_train)\n",
    "y_test = preproc_y(y_test)"
   ]
  },
  {
   "cell_type": "code",
   "execution_count": 7,
   "metadata": {},
   "outputs": [
    {
     "name": "stdout",
     "output_type": "stream",
     "text": [
      "Model: \"model\"\n",
      "_________________________________________________________________\n",
      "Layer (type)                 Output Shape              Param #   \n",
      "=================================================================\n",
      "input_1 (InputLayer)         [(None, 3072)]            0         \n",
      "_________________________________________________________________\n",
      "hidden_layer1 (Dense)        (None, 512)               1573376   \n",
      "_________________________________________________________________\n",
      "hidden_layer2 (Dense)        (None, 256)               131328    \n",
      "_________________________________________________________________\n",
      "hidden_layer3 (Dense)        (None, 128)               32896     \n",
      "_________________________________________________________________\n",
      "hidden_layer4 (Dense)        (None, 64)                8256      \n",
      "_________________________________________________________________\n",
      "hidden_layer5 (Dense)        (None, 32)                2080      \n",
      "_________________________________________________________________\n",
      "output (Dense)               (None, 10)                330       \n",
      "=================================================================\n",
      "Total params: 1,748,266\n",
      "Trainable params: 1,748,266\n",
      "Non-trainable params: 0\n",
      "_________________________________________________________________\n"
     ]
    }
   ],
   "source": [
    "\"\"\"Code Here\n",
    "建立你的神經網路\n",
    "\"\"\"\n",
    "def build_mlp(input_shape, output_units=10, num_neurons=[512, 256, 128, 64, 32]):\n",
    "    input_layer = keras.layers.Input(input_shape)\n",
    "    \n",
    "    for i, n_units in enumerate(num_neurons):\n",
    "        if i == 0:\n",
    "            x = keras.layers.Dense(units=n_units, activation=\"relu\", name=\"hidden_layer\"+str(i+1))(input_layer)\n",
    "        else:\n",
    "            x = keras.layers.Dense(units=n_units, activation=\"relu\", name=\"hidden_layer\"+str(i+1))(x)\n",
    "    \n",
    "    out = keras.layers.Dense(units=output_units, activation=\"softmax\", name=\"output\")(x)\n",
    "    \n",
    "    model = keras.models.Model(inputs=[input_layer], outputs=[out])\n",
    "    return model\n",
    "model = build_mlp(input_shape=x_train.shape[1:])\n",
    "model.summary()"
   ]
  },
  {
   "cell_type": "code",
   "execution_count": 8,
   "metadata": {},
   "outputs": [],
   "source": [
    "## 超參數設定\n",
    "LEARNING_RATE = 0.001\n",
    "EPOCHS = 100\n",
    "BATCH_SIZE = 256"
   ]
  },
  {
   "cell_type": "code",
   "execution_count": 9,
   "metadata": {},
   "outputs": [],
   "source": [
    "optimizer = keras.optimizers.Adam(lr=LEARNING_RATE)\n",
    "model.compile(loss=\"categorical_crossentropy\", metrics=[\"accuracy\"], optimizer=optimizer)"
   ]
  },
  {
   "cell_type": "code",
   "execution_count": 10,
   "metadata": {},
   "outputs": [
    {
     "name": "stdout",
     "output_type": "stream",
     "text": [
      "WARNING:tensorflow:From C:\\Users\\Hero3C\\Anaconda3\\envs\\keras\\lib\\site-packages\\tensorflow\\python\\ops\\math_grad.py:1250: add_dispatch_support.<locals>.wrapper (from tensorflow.python.ops.array_ops) is deprecated and will be removed in a future version.\n",
      "Instructions for updating:\n",
      "Use tf.where in 2.0, which has the same broadcast rule as np.where\n",
      "Train on 50000 samples, validate on 10000 samples\n",
      "Epoch 1/100\n",
      "50000/50000 [==============================] - 7s 138us/sample - loss: 1.7151 - accuracy: 0.3934 - val_loss: 1.5669 - val_accuracy: 0.4457\n",
      "Epoch 2/100\n",
      "50000/50000 [==============================] - 5s 92us/sample - loss: 1.4870 - accuracy: 0.4764 - val_loss: 1.4620 - val_accuracy: 0.4843\n",
      "Epoch 3/100\n",
      "50000/50000 [==============================] - 5s 96us/sample - loss: 1.3657 - accuracy: 0.5175 - val_loss: 1.4306 - val_accuracy: 0.5042\n",
      "Epoch 4/100\n",
      "50000/50000 [==============================] - 5s 95us/sample - loss: 1.2745 - accuracy: 0.5504 - val_loss: 1.3899 - val_accuracy: 0.5190\n",
      "Epoch 5/100\n",
      "50000/50000 [==============================] - 5s 91us/sample - loss: 1.1920 - accuracy: 0.5810 - val_loss: 1.3779 - val_accuracy: 0.5283\n",
      "Epoch 6/100\n",
      "50000/50000 [==============================] - 5s 96us/sample - loss: 1.1115 - accuracy: 0.6064 - val_loss: 1.3851 - val_accuracy: 0.5211\n",
      "Epoch 7/100\n",
      "50000/50000 [==============================] - 5s 96us/sample - loss: 1.0372 - accuracy: 0.6339 - val_loss: 1.4186 - val_accuracy: 0.5245\n",
      "Epoch 8/100\n",
      "50000/50000 [==============================] - 5s 93us/sample - loss: 0.9659 - accuracy: 0.6581 - val_loss: 1.3818 - val_accuracy: 0.5400\n",
      "Epoch 9/100\n",
      "50000/50000 [==============================] - 5s 97us/sample - loss: 0.8932 - accuracy: 0.6829 - val_loss: 1.4497 - val_accuracy: 0.5345\n",
      "Epoch 10/100\n",
      "50000/50000 [==============================] - 5s 98us/sample - loss: 0.8336 - accuracy: 0.7074 - val_loss: 1.4781 - val_accuracy: 0.5275\n",
      "Epoch 11/100\n",
      "50000/50000 [==============================] - 5s 97us/sample - loss: 0.7609 - accuracy: 0.7306 - val_loss: 1.5210 - val_accuracy: 0.5373\n",
      "Epoch 12/100\n",
      "50000/50000 [==============================] - 5s 92us/sample - loss: 0.7125 - accuracy: 0.7482 - val_loss: 1.5435 - val_accuracy: 0.5410\n",
      "Epoch 13/100\n",
      "50000/50000 [==============================] - 5s 99us/sample - loss: 0.6423 - accuracy: 0.7739 - val_loss: 1.6483 - val_accuracy: 0.5320\n",
      "Epoch 14/100\n",
      "50000/50000 [==============================] - 5s 96us/sample - loss: 0.5882 - accuracy: 0.7923 - val_loss: 1.7364 - val_accuracy: 0.5336\n",
      "Epoch 15/100\n",
      "50000/50000 [==============================] - 5s 91us/sample - loss: 0.5448 - accuracy: 0.8097 - val_loss: 1.7660 - val_accuracy: 0.5303\n",
      "Epoch 16/100\n",
      "50000/50000 [==============================] - 5s 96us/sample - loss: 0.4998 - accuracy: 0.8256 - val_loss: 1.9086 - val_accuracy: 0.5252\n",
      "Epoch 17/100\n",
      "50000/50000 [==============================] - 5s 94us/sample - loss: 0.4472 - accuracy: 0.8429 - val_loss: 1.9606 - val_accuracy: 0.5314\n",
      "Epoch 18/100\n",
      "50000/50000 [==============================] - 5s 93us/sample - loss: 0.4167 - accuracy: 0.8548 - val_loss: 2.0694 - val_accuracy: 0.5231\n",
      "Epoch 19/100\n",
      "50000/50000 [==============================] - 5s 93us/sample - loss: 0.3880 - accuracy: 0.8645 - val_loss: 2.1200 - val_accuracy: 0.5392\n",
      "Epoch 20/100\n",
      "50000/50000 [==============================] - 5s 94us/sample - loss: 0.3568 - accuracy: 0.8749 - val_loss: 2.2595 - val_accuracy: 0.5300\n",
      "Epoch 21/100\n",
      "50000/50000 [==============================] - 5s 95us/sample - loss: 0.3206 - accuracy: 0.8865 - val_loss: 2.3576 - val_accuracy: 0.5398\n",
      "Epoch 22/100\n",
      "50000/50000 [==============================] - 5s 91us/sample - loss: 0.3073 - accuracy: 0.8929 - val_loss: 2.4384 - val_accuracy: 0.5359\n",
      "Epoch 23/100\n",
      "50000/50000 [==============================] - 5s 95us/sample - loss: 0.2825 - accuracy: 0.8997 - val_loss: 2.4880 - val_accuracy: 0.5304\n",
      "Epoch 24/100\n",
      "50000/50000 [==============================] - 5s 94us/sample - loss: 0.2689 - accuracy: 0.9059 - val_loss: 2.4788 - val_accuracy: 0.5282\n",
      "Epoch 25/100\n",
      "50000/50000 [==============================] - 5s 91us/sample - loss: 0.2495 - accuracy: 0.9146 - val_loss: 2.6633 - val_accuracy: 0.5322\n",
      "Epoch 26/100\n",
      "50000/50000 [==============================] - 5s 96us/sample - loss: 0.2432 - accuracy: 0.9144 - val_loss: 2.6207 - val_accuracy: 0.5269\n",
      "Epoch 27/100\n",
      "50000/50000 [==============================] - 5s 96us/sample - loss: 0.2421 - accuracy: 0.9173 - val_loss: 2.7459 - val_accuracy: 0.5261\n",
      "Epoch 28/100\n",
      "50000/50000 [==============================] - 5s 97us/sample - loss: 0.2175 - accuracy: 0.9244 - val_loss: 2.7278 - val_accuracy: 0.5304\n",
      "Epoch 29/100\n",
      "50000/50000 [==============================] - 5s 91us/sample - loss: 0.2005 - accuracy: 0.9325 - val_loss: 2.8399 - val_accuracy: 0.5279\n",
      "Epoch 30/100\n",
      "50000/50000 [==============================] - 5s 98us/sample - loss: 0.1915 - accuracy: 0.9346 - val_loss: 2.9441 - val_accuracy: 0.5332\n",
      "Epoch 31/100\n",
      "50000/50000 [==============================] - 5s 95us/sample - loss: 0.1771 - accuracy: 0.9394 - val_loss: 3.0839 - val_accuracy: 0.5261\n",
      "Epoch 32/100\n",
      "50000/50000 [==============================] - 5s 94us/sample - loss: 0.1916 - accuracy: 0.9338 - val_loss: 2.9934 - val_accuracy: 0.5293\n",
      "Epoch 33/100\n",
      "50000/50000 [==============================] - 5s 95us/sample - loss: 0.1732 - accuracy: 0.9410 - val_loss: 3.0464 - val_accuracy: 0.5345\n",
      "Epoch 34/100\n",
      "50000/50000 [==============================] - 5s 95us/sample - loss: 0.1923 - accuracy: 0.9337 - val_loss: 3.0074 - val_accuracy: 0.5248\n",
      "Epoch 35/100\n",
      "50000/50000 [==============================] - 5s 93us/sample - loss: 0.1614 - accuracy: 0.9461 - val_loss: 3.2072 - val_accuracy: 0.5321\n",
      "Epoch 36/100\n",
      "50000/50000 [==============================] - 5s 96us/sample - loss: 0.1521 - accuracy: 0.9473 - val_loss: 3.2665 - val_accuracy: 0.5247\n",
      "Epoch 37/100\n",
      "50000/50000 [==============================] - 5s 98us/sample - loss: 0.1520 - accuracy: 0.9484 - val_loss: 3.3150 - val_accuracy: 0.5268\n",
      "Epoch 38/100\n",
      "50000/50000 [==============================] - 5s 100us/sample - loss: 0.1366 - accuracy: 0.9541 - val_loss: 3.4321 - val_accuracy: 0.5221\n",
      "Epoch 39/100\n",
      "50000/50000 [==============================] - 5s 92us/sample - loss: 0.1662 - accuracy: 0.9437 - val_loss: 3.3911 - val_accuracy: 0.5270\n",
      "Epoch 40/100\n",
      "50000/50000 [==============================] - 5s 99us/sample - loss: 0.1524 - accuracy: 0.9473 - val_loss: 3.3454 - val_accuracy: 0.5355\n",
      "Epoch 41/100\n",
      "50000/50000 [==============================] - 5s 98us/sample - loss: 0.1218 - accuracy: 0.9588 - val_loss: 3.3720 - val_accuracy: 0.5328\n",
      "Epoch 42/100\n",
      "50000/50000 [==============================] - 5s 95us/sample - loss: 0.1324 - accuracy: 0.9542 - val_loss: 3.4197 - val_accuracy: 0.5292\n",
      "Epoch 43/100\n",
      "50000/50000 [==============================] - 5s 100us/sample - loss: 0.1449 - accuracy: 0.9510 - val_loss: 3.4006 - val_accuracy: 0.5255\n",
      "Epoch 44/100\n",
      "50000/50000 [==============================] - 5s 100us/sample - loss: 0.1539 - accuracy: 0.9488 - val_loss: 3.3338 - val_accuracy: 0.5210\n",
      "Epoch 45/100\n",
      "50000/50000 [==============================] - 5s 97us/sample - loss: 0.1192 - accuracy: 0.9598 - val_loss: 3.4523 - val_accuracy: 0.5319\n",
      "Epoch 46/100\n",
      "50000/50000 [==============================] - 5s 103us/sample - loss: 0.1186 - accuracy: 0.9598 - val_loss: 3.4789 - val_accuracy: 0.5358\n",
      "Epoch 47/100\n",
      "50000/50000 [==============================] - 5s 106us/sample - loss: 0.1251 - accuracy: 0.9588 - val_loss: 3.4069 - val_accuracy: 0.5309\n",
      "Epoch 48/100\n",
      "50000/50000 [==============================] - 5s 94us/sample - loss: 0.1377 - accuracy: 0.9534 - val_loss: 3.5105 - val_accuracy: 0.5242\n",
      "Epoch 49/100\n",
      "50000/50000 [==============================] - 5s 101us/sample - loss: 0.0988 - accuracy: 0.9670 - val_loss: 3.6634 - val_accuracy: 0.5274\n",
      "Epoch 50/100\n",
      "50000/50000 [==============================] - 5s 102us/sample - loss: 0.1238 - accuracy: 0.9584 - val_loss: 3.5052 - val_accuracy: 0.5319\n",
      "Epoch 51/100\n",
      "50000/50000 [==============================] - 5s 100us/sample - loss: 0.1104 - accuracy: 0.9631 - val_loss: 3.5833 - val_accuracy: 0.5269\n",
      "Epoch 52/100\n"
     ]
    },
    {
     "name": "stdout",
     "output_type": "stream",
     "text": [
      "50000/50000 [==============================] - 5s 92us/sample - loss: 0.1186 - accuracy: 0.9610 - val_loss: 3.4700 - val_accuracy: 0.5298\n",
      "Epoch 53/100\n",
      "50000/50000 [==============================] - 5s 97us/sample - loss: 0.1139 - accuracy: 0.9612 - val_loss: 3.6565 - val_accuracy: 0.5300\n",
      "Epoch 54/100\n",
      "50000/50000 [==============================] - 5s 96us/sample - loss: 0.0862 - accuracy: 0.9707 - val_loss: 3.7103 - val_accuracy: 0.5355\n",
      "Epoch 55/100\n",
      "50000/50000 [==============================] - 5s 90us/sample - loss: 0.1033 - accuracy: 0.9649 - val_loss: 3.7555 - val_accuracy: 0.5326\n",
      "Epoch 56/100\n",
      "50000/50000 [==============================] - 5s 98us/sample - loss: 0.1073 - accuracy: 0.9653 - val_loss: 3.6296 - val_accuracy: 0.5331\n",
      "Epoch 57/100\n",
      "50000/50000 [==============================] - 5s 96us/sample - loss: 0.1128 - accuracy: 0.9625 - val_loss: 3.7299 - val_accuracy: 0.5313\n",
      "Epoch 58/100\n",
      "50000/50000 [==============================] - 5s 92us/sample - loss: 0.1077 - accuracy: 0.9636 - val_loss: 3.5958 - val_accuracy: 0.5372\n",
      "Epoch 59/100\n",
      "50000/50000 [==============================] - 5s 98us/sample - loss: 0.0921 - accuracy: 0.9689 - val_loss: 3.7155 - val_accuracy: 0.5245\n",
      "Epoch 60/100\n",
      "50000/50000 [==============================] - 5s 98us/sample - loss: 0.0881 - accuracy: 0.9712 - val_loss: 3.8264 - val_accuracy: 0.5326\n",
      "Epoch 61/100\n",
      "50000/50000 [==============================] - 5s 95us/sample - loss: 0.1180 - accuracy: 0.9614 - val_loss: 3.5769 - val_accuracy: 0.5273\n",
      "Epoch 62/100\n",
      "50000/50000 [==============================] - 5s 92us/sample - loss: 0.0975 - accuracy: 0.9684 - val_loss: 3.7472 - val_accuracy: 0.5238\n",
      "Epoch 63/100\n",
      "50000/50000 [==============================] - 5s 94us/sample - loss: 0.1089 - accuracy: 0.9640 - val_loss: 3.7217 - val_accuracy: 0.5378\n",
      "Epoch 64/100\n",
      "50000/50000 [==============================] - 5s 95us/sample - loss: 0.1027 - accuracy: 0.9672 - val_loss: 3.6424 - val_accuracy: 0.5253\n",
      "Epoch 65/100\n",
      "50000/50000 [==============================] - 5s 91us/sample - loss: 0.1078 - accuracy: 0.9649 - val_loss: 3.6919 - val_accuracy: 0.5281\n",
      "Epoch 66/100\n",
      "50000/50000 [==============================] - 5s 98us/sample - loss: 0.0668 - accuracy: 0.9773 - val_loss: 3.7926 - val_accuracy: 0.5295\n",
      "Epoch 67/100\n",
      "50000/50000 [==============================] - 5s 96us/sample - loss: 0.0680 - accuracy: 0.9770 - val_loss: 3.9801 - val_accuracy: 0.5201\n",
      "Epoch 68/100\n",
      "50000/50000 [==============================] - 5s 93us/sample - loss: 0.0984 - accuracy: 0.9674 - val_loss: 3.8918 - val_accuracy: 0.5250\n",
      "Epoch 69/100\n",
      "50000/50000 [==============================] - 5s 95us/sample - loss: 0.1073 - accuracy: 0.9650 - val_loss: 3.7676 - val_accuracy: 0.5289\n",
      "Epoch 70/100\n",
      "50000/50000 [==============================] - 5s 98us/sample - loss: 0.0961 - accuracy: 0.9688 - val_loss: 3.7825 - val_accuracy: 0.5306\n",
      "Epoch 71/100\n",
      "50000/50000 [==============================] - 5s 99us/sample - loss: 0.0664 - accuracy: 0.9774 - val_loss: 3.8909 - val_accuracy: 0.5366\n",
      "Epoch 72/100\n",
      "50000/50000 [==============================] - 5s 91us/sample - loss: 0.0582 - accuracy: 0.9810 - val_loss: 3.8516 - val_accuracy: 0.5318\n",
      "Epoch 73/100\n",
      "50000/50000 [==============================] - 5s 96us/sample - loss: 0.0960 - accuracy: 0.9692 - val_loss: 3.9201 - val_accuracy: 0.5208\n",
      "Epoch 74/100\n",
      "50000/50000 [==============================] - 5s 98us/sample - loss: 0.0954 - accuracy: 0.9679 - val_loss: 3.8407 - val_accuracy: 0.5238\n",
      "Epoch 75/100\n",
      "50000/50000 [==============================] - 5s 92us/sample - loss: 0.0847 - accuracy: 0.9733 - val_loss: 3.8308 - val_accuracy: 0.5347\n",
      "Epoch 76/100\n",
      "50000/50000 [==============================] - 5s 96us/sample - loss: 0.0806 - accuracy: 0.9740 - val_loss: 3.8794 - val_accuracy: 0.5323\n",
      "Epoch 77/100\n",
      "50000/50000 [==============================] - 5s 96us/sample - loss: 0.0797 - accuracy: 0.9737 - val_loss: 3.8771 - val_accuracy: 0.5267\n",
      "Epoch 78/100\n",
      "50000/50000 [==============================] - 5s 92us/sample - loss: 0.0953 - accuracy: 0.9693 - val_loss: 3.8616 - val_accuracy: 0.5283\n",
      "Epoch 79/100\n",
      "50000/50000 [==============================] - 5s 93us/sample - loss: 0.0781 - accuracy: 0.9742 - val_loss: 3.8799 - val_accuracy: 0.5345\n",
      "Epoch 80/100\n",
      "50000/50000 [==============================] - 5s 96us/sample - loss: 0.0864 - accuracy: 0.9717 - val_loss: 3.9534 - val_accuracy: 0.5254\n",
      "Epoch 81/100\n",
      "50000/50000 [==============================] - 5s 97us/sample - loss: 0.0879 - accuracy: 0.9718 - val_loss: 3.9102 - val_accuracy: 0.5277\n",
      "Epoch 82/100\n",
      "50000/50000 [==============================] - 4s 90us/sample - loss: 0.0620 - accuracy: 0.9793 - val_loss: 3.9946 - val_accuracy: 0.5298\n",
      "Epoch 83/100\n",
      "50000/50000 [==============================] - 5s 95us/sample - loss: 0.0586 - accuracy: 0.9803 - val_loss: 4.0374 - val_accuracy: 0.5282\n",
      "Epoch 84/100\n",
      "50000/50000 [==============================] - 5s 95us/sample - loss: 0.0681 - accuracy: 0.9782 - val_loss: 3.9452 - val_accuracy: 0.5212\n",
      "Epoch 85/100\n",
      "50000/50000 [==============================] - 5s 92us/sample - loss: 0.0862 - accuracy: 0.9721 - val_loss: 4.0100 - val_accuracy: 0.5296\n",
      "Epoch 86/100\n",
      "50000/50000 [==============================] - 5s 97us/sample - loss: 0.0918 - accuracy: 0.9719 - val_loss: 3.9545 - val_accuracy: 0.5278\n",
      "Epoch 87/100\n",
      "50000/50000 [==============================] - 5s 94us/sample - loss: 0.0750 - accuracy: 0.9765 - val_loss: 3.8768 - val_accuracy: 0.5354\n",
      "Epoch 88/100\n",
      "50000/50000 [==============================] - 5s 98us/sample - loss: 0.0723 - accuracy: 0.9759 - val_loss: 3.9060 - val_accuracy: 0.5317\n",
      "Epoch 89/100\n",
      "50000/50000 [==============================] - 5s 90us/sample - loss: 0.0622 - accuracy: 0.9807 - val_loss: 4.0224 - val_accuracy: 0.5291\n",
      "Epoch 90/100\n",
      "50000/50000 [==============================] - 5s 98us/sample - loss: 0.0618 - accuracy: 0.9796 - val_loss: 3.9274 - val_accuracy: 0.5295\n",
      "Epoch 91/100\n",
      "50000/50000 [==============================] - 5s 95us/sample - loss: 0.0721 - accuracy: 0.9762 - val_loss: 4.1218 - val_accuracy: 0.5218\n",
      "Epoch 92/100\n",
      "50000/50000 [==============================] - 5s 93us/sample - loss: 0.0633 - accuracy: 0.9790 - val_loss: 4.0164 - val_accuracy: 0.5341\n",
      "Epoch 93/100\n",
      "50000/50000 [==============================] - 5s 95us/sample - loss: 0.0754 - accuracy: 0.9762 - val_loss: 3.9788 - val_accuracy: 0.5318\n",
      "Epoch 94/100\n",
      "50000/50000 [==============================] - 5s 99us/sample - loss: 0.0765 - accuracy: 0.9747 - val_loss: 3.9752 - val_accuracy: 0.5331\n",
      "Epoch 95/100\n",
      "50000/50000 [==============================] - 5s 95us/sample - loss: 0.0740 - accuracy: 0.9764 - val_loss: 3.9066 - val_accuracy: 0.5405\n",
      "Epoch 96/100\n",
      "50000/50000 [==============================] - 5s 98us/sample - loss: 0.0637 - accuracy: 0.9786 - val_loss: 4.0640 - val_accuracy: 0.5325\n",
      "Epoch 97/100\n",
      "50000/50000 [==============================] - 5s 97us/sample - loss: 0.0572 - accuracy: 0.9816 - val_loss: 4.0496 - val_accuracy: 0.5279\n",
      "Epoch 98/100\n",
      "50000/50000 [==============================] - 5s 96us/sample - loss: 0.0542 - accuracy: 0.9829 - val_loss: 4.1699 - val_accuracy: 0.5355\n",
      "Epoch 99/100\n",
      "50000/50000 [==============================] - 4s 84us/sample - loss: 0.0691 - accuracy: 0.9778 - val_loss: 4.0234 - val_accuracy: 0.5312\n",
      "Epoch 100/100\n",
      "50000/50000 [==============================] - 5s 98us/sample - loss: 0.0800 - accuracy: 0.9748 - val_loss: 4.0123 - val_accuracy: 0.5323\n"
     ]
    },
    {
     "data": {
      "text/plain": [
       "<tensorflow.python.keras.callbacks.History at 0x2e5c32caec8>"
      ]
     },
     "execution_count": 10,
     "metadata": {},
     "output_type": "execute_result"
    }
   ],
   "source": [
    "model.fit(x_train, y_train, \n",
    "          epochs=EPOCHS, \n",
    "          batch_size=BATCH_SIZE, \n",
    "          validation_data=(x_test, y_test), \n",
    "          shuffle=True)"
   ]
  },
  {
   "cell_type": "code",
   "execution_count": 12,
   "metadata": {},
   "outputs": [
    {
     "data": {
      "image/png": "[encoded data removed]",
      "text/plain": [
       "<Figure size 432x288 with 1 Axes>"
      ]
     },
     "metadata": {
      "needs_background": "light"
     },
     "output_type": "display_data"
    },
    {
     "data": {
      "image/png": "[encoded data removed]",
      "text/plain": [
       "<Figure size 432x288 with 1 Axes>"
      ]
     },
     "metadata": {
      "needs_background": "light"
     },
     "output_type": "display_data"
    }
   ],
   "source": [
    "import matplotlib.pyplot as plt\n",
    "\n",
    "\n",
    "train_loss = model.history.history[\"loss\"]\n",
    "valid_loss = model.history.history[\"val_loss\"]\n",
    "\n",
    "train_acc = model.history.history[\"accuracy\"]\n",
    "valid_acc = model.history.history[\"val_accuracy\"]\n",
    "\n",
    "plt.plot(range(len(train_loss)), train_loss, label=\"train loss\")\n",
    "plt.plot(range(len(valid_loss)), valid_loss, label=\"valid loss\")\n",
    "plt.legend()\n",
    "plt.title(\"Loss\")\n",
    "plt.show()\n",
    "\n",
    "plt.plot(range(len(train_acc)), train_acc, label=\"train accuracy\")\n",
    "plt.plot(range(len(valid_acc)), valid_acc, label=\"valid accuracy\")\n",
    "plt.legend()\n",
    "plt.title(\"Accuracy\")\n",
    "plt.show()"
   ]
  },
  {
   "cell_type": "code",
   "execution_count": null,
   "metadata": {},
   "outputs": [],
   "source": []
  }
 ],
 "metadata": {
  "kernelspec": {
   "display_name": "keras",
   "language": "python",
   "name": "keras"
  },
  "language_info": {
   "codemirror_mode": {
    "name": "ipython",
    "version": 3
   },
   "file_extension": ".py",
   "mimetype": "text/x-python",
   "name": "python",
   "nbconvert_exporter": "python",
   "pygments_lexer": "ipython3",
   "version": "3.7.5"
  }
 },
 "nbformat": 4,
 "nbformat_minor": 2
}
